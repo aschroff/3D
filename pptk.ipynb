{
 "cells": [
  {
   "cell_type": "code",
   "execution_count": 1,
   "id": "f0cf0954",
   "metadata": {},
   "outputs": [
    {
     "ename": "ModuleNotFoundError",
     "evalue": "No module named 'pptk'",
     "output_type": "error",
     "traceback": [
      "\u001b[1;31m---------------------------------------------------------------------------\u001b[0m",
      "\u001b[1;31mModuleNotFoundError\u001b[0m                       Traceback (most recent call last)",
      "\u001b[1;32m~\\AppData\\Local\\Temp/ipykernel_18024/3307578139.py\u001b[0m in \u001b[0;36m<module>\u001b[1;34m\u001b[0m\n\u001b[0;32m      1\u001b[0m \u001b[1;32mimport\u001b[0m \u001b[0mnumpy\u001b[0m \u001b[1;32mas\u001b[0m \u001b[0mnp\u001b[0m\u001b[1;33m\u001b[0m\u001b[1;33m\u001b[0m\u001b[0m\n\u001b[1;32m----> 2\u001b[1;33m \u001b[1;32mimport\u001b[0m \u001b[0mpptk\u001b[0m\u001b[1;33m\u001b[0m\u001b[1;33m\u001b[0m\u001b[0m\n\u001b[0m\u001b[0;32m      3\u001b[0m \u001b[1;32mimport\u001b[0m \u001b[0mlaspy\u001b[0m \u001b[1;32mas\u001b[0m \u001b[0mlp\u001b[0m\u001b[1;33m\u001b[0m\u001b[1;33m\u001b[0m\u001b[0m\n\u001b[0;32m      4\u001b[0m \u001b[0minput_path\u001b[0m\u001b[1;33m=\u001b[0m\u001b[1;34m\"C:\\\\Dev\\\\Tools\\\\data_poux\\\\\"\u001b[0m\u001b[1;33m\u001b[0m\u001b[1;33m\u001b[0m\u001b[0m\n\u001b[0;32m      5\u001b[0m \u001b[0mdataname\u001b[0m\u001b[1;33m=\u001b[0m\u001b[1;34m\"2020_Drone_M\"\u001b[0m\u001b[1;33m\u001b[0m\u001b[1;33m\u001b[0m\u001b[0m\n",
      "\u001b[1;31mModuleNotFoundError\u001b[0m: No module named 'pptk'"
     ]
    }
   ],
   "source": [
    "import numpy as np\n",
    "import pptk\n",
    "import laspy as lp\n",
    "input_path=\"C:\\\\Dev\\\\Tools\\\\data_poux\\\\\"\n",
    "dataname=\"2020_Drone_M\"\n",
    "point_cloud=lp.read(input_path+dataname+\".las\")"
   ]
  },
  {
   "cell_type": "code",
   "execution_count": 2,
   "id": "b4f2cc0f",
   "metadata": {},
   "outputs": [
    {
     "name": "stderr",
     "output_type": "stream",
     "text": [
      "ERROR: Could not find a version that satisfies the requirement pptk (from versions: none)\n",
      "ERROR: No matching distribution found for pptk\n",
      "WARNING: You are using pip version 21.3.1; however, version 22.0.3 is available.\n",
      "You should consider upgrading via the 'C:\\Dev\\Tools\\Python\\Env\\pointcloud\\Scripts\\python.exe -m pip install --upgrade pip' command.\n"
     ]
    }
   ],
   "source": [
    "!pip install pptk"
   ]
  },
  {
   "cell_type": "code",
   "execution_count": 8,
   "id": "3b63823b",
   "metadata": {},
   "outputs": [],
   "source": [
    "points = np.vstack((point_cloud.x, point_cloud.y, point_cloud.z)).transpose()\n",
    "colors = np.vstack((point_cloud.red, point_cloud.green, point_cloud.blue)).transpose()\n",
    "#factor=10\n",
    "#decimated_points_random = points[::factor]"
   ]
  },
  {
   "cell_type": "code",
   "execution_count": 9,
   "id": "89de049b",
   "metadata": {},
   "outputs": [],
   "source": [
    "v = pptk.viewer(points)"
   ]
  },
  {
   "cell_type": "code",
   "execution_count": 10,
   "id": "e29efe21",
   "metadata": {},
   "outputs": [],
   "source": [
    "v.attributes(colors/65535)"
   ]
  },
  {
   "cell_type": "code",
   "execution_count": 11,
   "id": "782574e6",
   "metadata": {},
   "outputs": [],
   "source": [
    "v.color_map('cool')\n",
    "v.set(point_size=0.001,bg_color=[0,0,0,0],show_axis=0,show_grid=0)"
   ]
  },
  {
   "cell_type": "code",
   "execution_count": 17,
   "id": "8faea087",
   "metadata": {},
   "outputs": [],
   "source": [
    "selection=v.get('selected')"
   ]
  },
  {
   "cell_type": "code",
   "execution_count": 18,
   "id": "e85149aa",
   "metadata": {},
   "outputs": [],
   "source": [
    "normals=pptk.estimate_normals(points[selection],k=6,r=np.inf)"
   ]
  },
  {
   "cell_type": "code",
   "execution_count": 19,
   "id": "0e01fc42",
   "metadata": {},
   "outputs": [],
   "source": [
    "idx_normals=np.where(abs(normals[...,2])<0.9)"
   ]
  },
  {
   "cell_type": "code",
   "execution_count": 23,
   "id": "ed913577",
   "metadata": {},
   "outputs": [],
   "source": [
    "viewer1=pptk.viewer(points[idx_normals],colors[idx_normals]/65535)"
   ]
  },
  {
   "cell_type": "code",
   "execution_count": 28,
   "id": "07341a92",
   "metadata": {},
   "outputs": [],
   "source": [
    "viewer2=pptk.viewer(points[selection],colors[selection]/65535)"
   ]
  },
  {
   "cell_type": "code",
   "execution_count": 25,
   "id": "6066089c",
   "metadata": {},
   "outputs": [],
   "source": [
    "idx_ground=np.where(points[...,2]>np.min(points[...,2]+0.3))\n",
    "idx_wronglyfiltered=np.setdiff1d(idx_ground, idx_normals)\n",
    "idx_retained=np.append(idx_normals, idx_wronglyfiltered)\n",
    "viewer3=pptk.viewer(points[idx_retained],colors[idx_retained]/65535)"
   ]
  },
  {
   "cell_type": "code",
   "execution_count": 29,
   "id": "3713de0f",
   "metadata": {},
   "outputs": [],
   "source": [
    "viewer3=pptk.viewer(points[idx_retained],colors[idx_retained]/65535)"
   ]
  },
  {
   "cell_type": "code",
   "execution_count": 27,
   "id": "a3cee84b",
   "metadata": {},
   "outputs": [],
   "source": []
  },
  {
   "cell_type": "code",
   "execution_count": null,
   "id": "9a2c483d",
   "metadata": {},
   "outputs": [],
   "source": []
  }
 ],
 "metadata": {
  "kernelspec": {
   "display_name": "Python 3 (ipykernel)",
   "language": "python",
   "name": "python3"
  },
  "language_info": {
   "codemirror_mode": {
    "name": "ipython",
    "version": 3
   },
   "file_extension": ".py",
   "mimetype": "text/x-python",
   "name": "python",
   "nbconvert_exporter": "python",
   "pygments_lexer": "ipython3",
   "version": "3.9.9"
  }
 },
 "nbformat": 4,
 "nbformat_minor": 5
}
