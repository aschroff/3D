{
 "cells": [
  {
   "cell_type": "code",
   "execution_count": 1,
   "id": "6c88fccd",
   "metadata": {},
   "outputs": [],
   "source": [
    "# PPTK Part"
   ]
  },
  {
   "cell_type": "code",
   "execution_count": 2,
   "id": "f0cf0954",
   "metadata": {},
   "outputs": [],
   "source": [
    "import numpy as np\n",
    "import pptk\n",
    "import laspy as lp\n",
    "input_path=\".\\\\data\\\\\"\n",
    "dataname=\"2020_Drone_M\"\n",
    "point_cloud=lp.read(input_path+dataname+\".las\")"
   ]
  },
  {
   "cell_type": "code",
   "execution_count": 12,
   "id": "2f10e916",
   "metadata": {},
   "outputs": [
    {
     "data": {
      "text/plain": [
       "['X',\n",
       " 'Y',\n",
       " 'Z',\n",
       " 'intensity',\n",
       " 'return_number',\n",
       " 'number_of_returns',\n",
       " 'scan_direction_flag',\n",
       " 'edge_of_flight_line',\n",
       " 'classification',\n",
       " 'synthetic',\n",
       " 'key_point',\n",
       " 'withheld',\n",
       " 'scan_angle_rank',\n",
       " 'user_data',\n",
       " 'point_source_id',\n",
       " 'red',\n",
       " 'green',\n",
       " 'blue']"
      ]
     },
     "execution_count": 12,
     "metadata": {},
     "output_type": "execute_result"
    }
   ],
   "source": [
    "list(point_cloud.point_format.standard_dimension_names)"
   ]
  },
  {
   "cell_type": "code",
   "execution_count": 3,
   "id": "3b63823b",
   "metadata": {},
   "outputs": [],
   "source": [
    "points = np.vstack((point_cloud.x, point_cloud.y, point_cloud.z)).transpose()\n",
    "colors = np.vstack((point_cloud.red, point_cloud.green, point_cloud.blue)).transpose()\n",
    "#factor=10\n",
    "#decimated_points_random = points[::factor]"
   ]
  },
  {
   "cell_type": "code",
   "execution_count": 19,
   "id": "461706f5",
   "metadata": {},
   "outputs": [
    {
     "data": {
      "text/plain": [
       "array([[0.39453727, 0.47266346, 0.46875715],\n",
       "       [0.10156405, 0.20703441, 0.07812619],\n",
       "       [0.33594263, 0.2851606 , 0.25391012],\n",
       "       ...,\n",
       "       [0.47266346, 0.58985275, 0.68360418],\n",
       "       [0.72266728, 0.80079347, 0.59375906],\n",
       "       [0.17187762, 0.27734798, 0.11718929]])"
      ]
     },
     "execution_count": 19,
     "metadata": {},
     "output_type": "execute_result"
    }
   ],
   "source": [
    " np.vstack((point_cloud.red, point_cloud.green, point_cloud.blue)).transpose()/65535"
   ]
  },
  {
   "cell_type": "code",
   "execution_count": null,
   "id": "7212440b",
   "metadata": {},
   "outputs": [],
   "source": []
  },
  {
   "cell_type": "code",
   "execution_count": 20,
   "id": "89de049b",
   "metadata": {},
   "outputs": [],
   "source": [
    "v = pptk.viewer(points)"
   ]
  },
  {
   "cell_type": "code",
   "execution_count": 21,
   "id": "e29efe21",
   "metadata": {},
   "outputs": [],
   "source": [
    "v.attributes(colors/65535)"
   ]
  },
  {
   "cell_type": "code",
   "execution_count": 22,
   "id": "782574e6",
   "metadata": {},
   "outputs": [],
   "source": [
    "v.color_map('cool')\n",
    "v.set(point_size=0.001,bg_color=[0,0,0,0],show_axis=0,show_grid=0)"
   ]
  },
  {
   "cell_type": "code",
   "execution_count": 7,
   "id": "8faea087",
   "metadata": {},
   "outputs": [],
   "source": [
    "selection=v.get('selected')"
   ]
  },
  {
   "cell_type": "code",
   "execution_count": 18,
   "id": "e85149aa",
   "metadata": {},
   "outputs": [],
   "source": [
    "normals=pptk.estimate_normals(points[selection],k=6,r=np.inf)"
   ]
  },
  {
   "cell_type": "code",
   "execution_count": 19,
   "id": "0e01fc42",
   "metadata": {},
   "outputs": [],
   "source": [
    "idx_normals=np.where(abs(normals[...,2])<0.9)"
   ]
  },
  {
   "cell_type": "code",
   "execution_count": 23,
   "id": "ed913577",
   "metadata": {},
   "outputs": [],
   "source": [
    "viewer1=pptk.viewer(points[idx_normals],colors[idx_normals]/65535)"
   ]
  },
  {
   "cell_type": "code",
   "execution_count": 28,
   "id": "07341a92",
   "metadata": {},
   "outputs": [],
   "source": [
    "viewer2=pptk.viewer(points[selection],colors[selection]/65535)"
   ]
  },
  {
   "cell_type": "code",
   "execution_count": 25,
   "id": "6066089c",
   "metadata": {},
   "outputs": [],
   "source": [
    "idx_ground=np.where(points[...,2]>np.min(points[...,2]+0.3))\n",
    "idx_wronglyfiltered=np.setdiff1d(idx_ground, idx_normals)\n",
    "idx_retained=np.append(idx_normals, idx_wronglyfiltered)\n",
    "viewer3=pptk.viewer(points[idx_retained],colors[idx_retained]/65535)"
   ]
  },
  {
   "cell_type": "code",
   "execution_count": 29,
   "id": "3713de0f",
   "metadata": {},
   "outputs": [],
   "source": [
    "viewer3=pptk.viewer(points[idx_retained],colors[idx_retained]/65535)"
   ]
  },
  {
   "cell_type": "code",
   "execution_count": 27,
   "id": "a3cee84b",
   "metadata": {},
   "outputs": [],
   "source": []
  },
  {
   "cell_type": "code",
   "execution_count": null,
   "id": "9a2c483d",
   "metadata": {},
   "outputs": [],
   "source": []
  }
 ],
 "metadata": {
  "kernelspec": {
   "display_name": "Python 3 (ipykernel)",
   "language": "python",
   "name": "python3"
  },
  "language_info": {
   "codemirror_mode": {
    "name": "ipython",
    "version": 3
   },
   "file_extension": ".py",
   "mimetype": "text/x-python",
   "name": "python",
   "nbconvert_exporter": "python",
   "pygments_lexer": "ipython3",
   "version": "3.7.9"
  }
 },
 "nbformat": 4,
 "nbformat_minor": 5
}
