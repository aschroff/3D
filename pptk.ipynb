{
 "cells": [
  {
   "cell_type": "code",
   "execution_count": null,
   "id": "6c88fccd",
   "metadata": {},
   "outputs": [],
   "source": [
    "# PPTK Part"
   ]
  },
  {
   "cell_type": "code",
   "execution_count": 2,
   "id": "f0cf0954",
   "metadata": {},
   "outputs": [],
   "source": [
    "import numpy as np\n",
    "import pptk\n",
    "import laspy as lp\n",
    "input_path=\".\\\\data\\\\\"\n",
    "dataname=\"2020_Drone_M\"\n",
    "point_cloud=lp.read(input_path+dataname+\".las\")"
   ]
  },
  {
   "cell_type": "code",
   "execution_count": 3,
   "id": "3b63823b",
   "metadata": {},
   "outputs": [],
   "source": [
    "points = np.vstack((point_cloud.x, point_cloud.y, point_cloud.z)).transpose()\n",
    "colors = np.vstack((point_cloud.red, point_cloud.green, point_cloud.blue)).transpose()\n",
    "#factor=10\n",
    "#decimated_points_random = points[::factor]"
   ]
  },
  {
   "cell_type": "code",
   "execution_count": 4,
   "id": "89de049b",
   "metadata": {},
   "outputs": [],
   "source": [
    "v = pptk.viewer(points)"
   ]
  },
  {
   "cell_type": "code",
   "execution_count": 5,
   "id": "e29efe21",
   "metadata": {},
   "outputs": [],
   "source": [
    "v.attributes(colors/65535)"
   ]
  },
  {
   "cell_type": "code",
   "execution_count": 6,
   "id": "782574e6",
   "metadata": {},
   "outputs": [],
   "source": [
    "v.color_map('cool')\n",
    "v.set(point_size=0.001,bg_color=[0,0,0,0],show_axis=0,show_grid=0)"
   ]
  },
  {
   "cell_type": "code",
   "execution_count": 7,
   "id": "8faea087",
   "metadata": {},
   "outputs": [],
   "source": [
    "selection=v.get('selected')"
   ]
  },
  {
   "cell_type": "code",
   "execution_count": 18,
   "id": "e85149aa",
   "metadata": {},
   "outputs": [],
   "source": [
    "normals=pptk.estimate_normals(points[selection],k=6,r=np.inf)"
   ]
  },
  {
   "cell_type": "code",
   "execution_count": 19,
   "id": "0e01fc42",
   "metadata": {},
   "outputs": [],
   "source": [
    "idx_normals=np.where(abs(normals[...,2])<0.9)"
   ]
  },
  {
   "cell_type": "code",
   "execution_count": 23,
   "id": "ed913577",
   "metadata": {},
   "outputs": [],
   "source": [
    "viewer1=pptk.viewer(points[idx_normals],colors[idx_normals]/65535)"
   ]
  },
  {
   "cell_type": "code",
   "execution_count": 28,
   "id": "07341a92",
   "metadata": {},
   "outputs": [],
   "source": [
    "viewer2=pptk.viewer(points[selection],colors[selection]/65535)"
   ]
  },
  {
   "cell_type": "code",
   "execution_count": 25,
   "id": "6066089c",
   "metadata": {},
   "outputs": [],
   "source": [
    "idx_ground=np.where(points[...,2]>np.min(points[...,2]+0.3))\n",
    "idx_wronglyfiltered=np.setdiff1d(idx_ground, idx_normals)\n",
    "idx_retained=np.append(idx_normals, idx_wronglyfiltered)\n",
    "viewer3=pptk.viewer(points[idx_retained],colors[idx_retained]/65535)"
   ]
  },
  {
   "cell_type": "code",
   "execution_count": 29,
   "id": "3713de0f",
   "metadata": {},
   "outputs": [],
   "source": [
    "viewer3=pptk.viewer(points[idx_retained],colors[idx_retained]/65535)"
   ]
  },
  {
   "cell_type": "code",
   "execution_count": 27,
   "id": "a3cee84b",
   "metadata": {},
   "outputs": [],
   "source": []
  },
  {
   "cell_type": "code",
   "execution_count": null,
   "id": "9a2c483d",
   "metadata": {},
   "outputs": [],
   "source": []
  }
 ],
 "metadata": {
  "kernelspec": {
   "display_name": "Python 3 (ipykernel)",
   "language": "python",
   "name": "python3"
  },
  "language_info": {
   "codemirror_mode": {
    "name": "ipython",
    "version": 3
   },
   "file_extension": ".py",
   "mimetype": "text/x-python",
   "name": "python",
   "nbconvert_exporter": "python",
   "pygments_lexer": "ipython3",
   "version": "3.7.9"
  }
 },
 "nbformat": 4,
 "nbformat_minor": 5
}
